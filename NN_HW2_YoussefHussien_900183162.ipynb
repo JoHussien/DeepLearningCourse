{
  "nbformat": 4,
  "nbformat_minor": 0,
  "metadata": {
    "colab": {
      "name": "NN_HW2_YoussefHussien_900183162.ipynb",
      "provenance": [],
      "collapsed_sections": [],
      "authorship_tag": "ABX9TyP/U+Cn09SOPCaWaGr5nk/L",
      "include_colab_link": true
    },
    "kernelspec": {
      "name": "python3",
      "display_name": "Python 3"
    },
    "language_info": {
      "name": "python"
    }
  },
  "cells": [
    {
      "cell_type": "markdown",
      "metadata": {
        "id": "view-in-github",
        "colab_type": "text"
      },
      "source": [
        "<a href=\"https://colab.research.google.com/github/JoHussien/DeepLearningCourse/blob/main/NN_HW2_YoussefHussien_900183162.ipynb\" target=\"_parent\"><img src=\"https://colab.research.google.com/assets/colab-badge.svg\" alt=\"Open In Colab\"/></a>"
      ]
    },
    {
      "cell_type": "code",
      "metadata": {
        "id": "CN8dXAQ8zqY9"
      },
      "source": [
        ""
      ],
      "execution_count": null,
      "outputs": []
    },
    {
      "cell_type": "code",
      "metadata": {
        "id": "mj-dXMumKaRs",
        "colab": {
          "base_uri": "https://localhost:8080/"
        },
        "outputId": "67e2f47a-1dd6-4a0b-fac8-8ac41973cd89"
      },
      "source": [
        "#mount Google drive\n",
        "from google.colab import drive\n",
        "drive.mount(\"/content/drive\")"
      ],
      "execution_count": 1,
      "outputs": [
        {
          "output_type": "stream",
          "name": "stdout",
          "text": [
            "Drive already mounted at /content/drive; to attempt to forcibly remount, call drive.mount(\"/content/drive\", force_remount=True).\n"
          ]
        }
      ]
    },
    {
      "cell_type": "code",
      "metadata": {
        "colab": {
          "base_uri": "https://localhost:8080/"
        },
        "id": "T0hTuazWj7_c",
        "outputId": "dbf10df8-2425-4f20-f781-e2a65d19ff05"
      },
      "source": [
        "print(\"Hello Here\")\n",
        "!ls\n",
        "print()"
      ],
      "execution_count": 2,
      "outputs": [
        {
          "output_type": "stream",
          "name": "stdout",
          "text": [
            "Hello Here\n",
            "drive  sample_data\n",
            "\n"
          ]
        }
      ]
    },
    {
      "cell_type": "code",
      "metadata": {
        "id": "qXcsnzsoMhof",
        "colab": {
          "base_uri": "https://localhost:8080/"
        },
        "outputId": "1dc45ab6-b698-4818-f3da-a0a8ab23ea4f"
      },
      "source": [
        "!ls\n",
        "!ls \"drive/MyDrive/CSCE4604_DeepLearning/assignment1/data\""
      ],
      "execution_count": 3,
      "outputs": [
        {
          "output_type": "stream",
          "name": "stdout",
          "text": [
            "drive  sample_data\n",
            "flower_photos\n"
          ]
        }
      ]
    },
    {
      "cell_type": "code",
      "metadata": {
        "colab": {
          "base_uri": "https://localhost:8080/"
        },
        "id": "veATWWlj6lS7",
        "outputId": "d433079c-41f6-436b-facb-082b35171f1b"
      },
      "source": [
        "# !pip install cupy\n",
        "print(\"Hello2\")"
      ],
      "execution_count": 4,
      "outputs": [
        {
          "output_type": "stream",
          "name": "stdout",
          "text": [
            "Hello2\n"
          ]
        }
      ]
    },
    {
      "cell_type": "code",
      "metadata": {
        "id": "9NTjpLl07BtE"
      },
      "source": [
        "import os\n",
        "import numpy as np\n",
        "import matplotlib.pyplot as plt\n",
        "import cv2\n",
        "import pickle\n",
        "from six.moves import cPickle as pickle\n",
        "import platform\n",
        "from itertools import chain\n",
        "from sklearn.model_selection import KFold\n",
        "import random\n",
        "import operator \n",
        "from tqdm import trange\n"
      ],
      "execution_count": 5,
      "outputs": []
    },
    {
      "cell_type": "code",
      "metadata": {
        "id": "_vzO0pzaAjkc"
      },
      "source": [
        "def make_data(data_dir, categories, data,data_0,data_1,data_2,data_3,data_4):\n",
        "  for cat in categories:\n",
        "    path = os.path.join(data_dir, cat)\n",
        "    label = categories.index(cat)\n",
        "    print(\"Started at Label: \", label) \n",
        "    for img_name in os.listdir(path):\n",
        "      img_path = os.path.join(path,img_name)\n",
        "      image = cv2.imread(img_path)\n",
        "\n",
        "      try:\n",
        "        image = cv2.cvtColor(image, cv2.COLOR_BGR2RGB)\n",
        "        image = cv2.resize(image, (224,224))\n",
        "        image = np.array(image, dtype=np.float32)\n",
        "        data.append([image,label])\n",
        "        if(label == 0):\n",
        "          data_0.append([image,label])\n",
        "        elif(label == 1):\n",
        "          data_1.append([image,label])\n",
        "        elif(label == 2):\n",
        "          data_2.append([image,label])\n",
        "        elif(label == 3):\n",
        "          data_3.append([image,label])\n",
        "        elif(label == 4):\n",
        "          data_4.append([image,label])\n",
        "      except Exception as e:\n",
        "        pass\n",
        "  \n",
        "  print(\"Length of the dataset is \", len(data), \" images\")\n",
        "  pik_path = os.path.join(data_dir, 'data.pickle')\n",
        "  pik = open('data.pickle', 'wb')\n",
        "  pickle.dump(data, pik)\n",
        "  pik.close()\n",
        "def make_pickle(data_dir, data, name):\n",
        "  pik_path = os.path.join(data_dir, name)\n",
        "  pik = open(pik_path, 'wb')\n",
        "  pickle.dump(data, pik)\n",
        "  pik.close()"
      ],
      "execution_count": 6,
      "outputs": []
    },
    {
      "cell_type": "code",
      "metadata": {
        "id": "V1v2K2e-TFi8"
      },
      "source": [
        "data_dir = 'drive/My Drive/CSCE4604_DeepLearning/assignment1/data/flower_photos'\n",
        "\n",
        "categories = ['daisy', 'dandelion', 'roses', 'sunflowers', 'tulips']"
      ],
      "execution_count": 7,
      "outputs": []
    },
    {
      "cell_type": "code",
      "metadata": {
        "id": "brqTM-wH3v_0"
      },
      "source": [
        "# Loading the data and making a pickle file from it\n",
        "\n",
        "\n",
        "# # Full dataset\n",
        "# data = []\n",
        "# # Partionned the dataset into five small datasets each one for each class of the data, data_0 corresponds to 'daisy', etc\n",
        "# data_0 = []\n",
        "# data_1 = []\n",
        "# data_2 = []\n",
        "# data_3 = []\n",
        "# data_4 = []\n",
        "\n",
        "# make_data(data_dir, categories, data,data_0,data_1,data_2,data_3,data_4)\n",
        "\n",
        "#Now we created a pickle file of our data and it's stored at our flower_photos directory\n",
        "#So there is no need to neither do the make_data again nor the make_pickle\n",
        "# make_pickle(data_dir, data)\n",
        "\n",
        "# make_pickle(data_dir, data_0, 'data_0.pickle')\n",
        "# make_pickle(data_dir, data_1, 'data_1.pickle')\n",
        "# make_pickle(data_dir, data_2, 'data_2.pickle')\n",
        "# make_pickle(data_dir, data_3, 'data_3.pickle')\n",
        "# make_pickle(data_dir, data_4, 'data_4.pickle')"
      ],
      "execution_count": 8,
      "outputs": []
    },
    {
      "cell_type": "code",
      "metadata": {
        "id": "UIHqe8iZOa30"
      },
      "source": [
        ""
      ],
      "execution_count": 8,
      "outputs": []
    },
    {
      "cell_type": "code",
      "metadata": {
        "id": "3t3_UrajMxgE"
      },
      "source": [
        "def load_data(pickle_path):\n",
        "  feature = []\n",
        "  labels = []\n",
        "  pick = open(pickle_path,'rb')\n",
        "  data = pickle.load(pick)\n",
        "  pick.close()\n",
        "\n",
        "  np.random.shuffle(data)\n",
        "\n",
        "  for img,label in data:\n",
        "    feature.append(img)\n",
        "    labels.append(label)\n",
        "  feature = np.array(feature, dtype=np.float32)\n",
        "  labels = np.array(labels)\n",
        "\n",
        "  # feature = feature/255\n",
        "  return [feature,labels]"
      ],
      "execution_count": 9,
      "outputs": []
    },
    {
      "cell_type": "code",
      "metadata": {
        "id": "U2IT6kZcPsoF"
      },
      "source": [
        "# pickle_path = os.path.join(data_dir, 'data_0.pickle')\n",
        "# (feature_0,labels_0) = load_data(pickle_path)\n",
        "# test_0_feature = feature_0[-100:]\n",
        "# test_0_labels = labels_0[-100:]\n",
        "# train_0_feature = feature_0[0:len(feature_0) - 100]\n",
        "# train_0_labels = labels_0[0:len(labels_0) - 100]\n",
        "\n",
        "# pickle_path = os.path.join(data_dir, 'data_1.pickle')\n",
        "# (feature_1,labels_1) = load_data(pickle_path)\n",
        "# test_1_feature = feature_1[-100:]\n",
        "# test_1_labels = labels_1[-100:]\n",
        "# train_1_feature = feature_1[0:len(feature_1) - 100]\n",
        "# train_1_labels = labels_1[0:len(labels_1) - 100]\n",
        "\n",
        "\n",
        "# pickle_path = os.path.join(data_dir, 'data_2.pickle')\n",
        "# (feature_2,labels_2) = load_data(pickle_path)\n",
        "# test_2_feature = feature_2[-100:]\n",
        "# test_2_labels = labels_2[-100:]\n",
        "# train_2_feature = feature_2[0:len(feature_2) - 100]\n",
        "# train_2_labels = labels_2[0:len(labels_2) - 100]\n",
        "\n",
        "\n",
        "# pickle_path = os.path.join(data_dir, 'data_3.pickle')\n",
        "# (feature_3,labels_3) = load_data(pickle_path)\n",
        "# test_3_feature = feature_3[-100:]\n",
        "# test_3_labels = labels_3[-100:]\n",
        "# train_3_feature = feature_3[0:len(feature_3) - 100]\n",
        "# train_3_labels = labels_3[0:len(labels_3) - 100]\n",
        "\n",
        "\n",
        "# pickle_path = os.path.join(data_dir, 'data_4.pickle')\n",
        "# (feature_4,labels_4) = load_data(pickle_path)\n",
        "# test_4_feature = feature_4[-100:]\n",
        "# test_4_labels = labels_4[-100:]\n",
        "# train_4_feature = feature_4[0:len(feature_4) - 100]\n",
        "# train_4_labels = labels_4[0:len(labels_4) - 100]"
      ],
      "execution_count": 10,
      "outputs": []
    },
    {
      "cell_type": "code",
      "metadata": {
        "id": "QrNSmtEmRe-E"
      },
      "source": [
        "# x_train = list(chain(train_0_feature , train_1_feature , train_2_feature , train_3_feature , train_4_feature) )\n",
        "# y_train = list(chain(train_0_labels , train_1_labels , train_2_labels , train_3_labels , train_4_labels ))\n",
        "# x_test = list(chain(test_0_feature , test_1_feature , test_2_feature , test_3_feature,  test_4_feature))\n",
        "# y_test = list(chain(test_0_labels , test_1_labels , test_2_labels , test_3_labels , test_4_labels ))"
      ],
      "execution_count": 11,
      "outputs": []
    },
    {
      "cell_type": "code",
      "metadata": {
        "id": "ZoFqDuYxTuQM"
      },
      "source": [
        "pickle_path = os.path.join(data_dir, 'data.pickle')\n",
        "(feature,labels) = load_data(pickle_path)\n",
        "from sklearn.utils import shuffle\n",
        "feature, labels = shuffle(feature, labels, random_state=0)\n",
        "test_feature = feature[-500:]\n",
        "test_labels = labels[-500:]\n",
        "train_feature = feature[0:len(feature) - 500]\n",
        "train_labels = labels[0:len(labels) - 500]"
      ],
      "execution_count": 12,
      "outputs": []
    },
    {
      "cell_type": "code",
      "metadata": {
        "colab": {
          "base_uri": "https://localhost:8080/"
        },
        "id": "NnP17wbzR50P",
        "outputId": "63773963-68c1-433f-f4b7-052eab41db29"
      },
      "source": [
        "print(\"Total number of data points is = \",feature.shape[0])\n",
        "x_train = train_feature\n",
        "y_train = train_labels\n",
        "x_test = test_feature\n",
        "y_test = test_labels"
      ],
      "execution_count": 13,
      "outputs": [
        {
          "output_type": "stream",
          "name": "stdout",
          "text": [
            "Total number of data points is =  3670\n"
          ]
        }
      ]
    },
    {
      "cell_type": "code",
      "metadata": {
        "colab": {
          "base_uri": "https://localhost:8080/"
        },
        "id": "wKpysmHXVFxl",
        "outputId": "9e7cd138-7f3c-40ac-ed98-f58840ca764b"
      },
      "source": [
        "#converting the lists to numpy array to make everything quicker\n",
        "X_train = np.array(x_train)\n",
        "Y_train = np.array(y_train)\n",
        "X_test = np.array(x_test)\n",
        "Y_test = np.array(y_test)\n",
        "X_train, Y_train = shuffle(X_train, Y_train)\n",
        "\n",
        "print ('Training data shape: ', X_train.shape)\n",
        "print ('Training labels shape: ', Y_train.shape)\n",
        "print ('Test data shape: ', X_test.shape)\n",
        "print ('Test labels shape: ', Y_test.shape)"
      ],
      "execution_count": 14,
      "outputs": [
        {
          "output_type": "stream",
          "name": "stdout",
          "text": [
            "Training data shape:  (3170, 224, 224, 3)\n",
            "Training labels shape:  (3170,)\n",
            "Test data shape:  (500, 224, 224, 3)\n",
            "Test labels shape:  (500,)\n"
          ]
        }
      ]
    },
    {
      "cell_type": "code",
      "metadata": {
        "id": "66sh_KgxrW0t"
      },
      "source": [
        "del x_train\n",
        "del y_train\n",
        "del x_test\n",
        "del y_test"
      ],
      "execution_count": 15,
      "outputs": []
    },
    {
      "cell_type": "code",
      "metadata": {
        "colab": {
          "base_uri": "https://localhost:8080/",
          "height": 321
        },
        "id": "Ftu-6KtFUn_V",
        "outputId": "f51720f7-87f6-45ae-a5fb-004d190dfa3c"
      },
      "source": [
        "#Visualizing a random image to check eveything is correct till now\n",
        "print(categories[Y_train[106]])\n",
        "print(Y_train[0:10])\n",
        "plt.imshow(X_train[106].astype('uint8'))"
      ],
      "execution_count": 16,
      "outputs": [
        {
          "output_type": "stream",
          "name": "stdout",
          "text": [
            "tulips\n",
            "[0 2 1 3 3 0 4 3 0 1]\n"
          ]
        },
        {
          "output_type": "execute_result",
          "data": {
            "text/plain": [
              "<matplotlib.image.AxesImage at 0x7fbb15981250>"
            ]
          },
          "metadata": {},
          "execution_count": 16
        },
        {
          "output_type": "display_data",
          "data": {
            "image/png": "[encoded data removed]",
            "text/plain": [
              "<Figure size 432x288 with 1 Axes>"
            ]
          },
          "metadata": {
            "needs_background": "light"
          }
        }
      ]
    },
    {
      "cell_type": "markdown",
      "metadata": {
        "id": "1UFncCDci-NM"
      },
      "source": [
        "Sample Images from each class"
      ]
    },
    {
      "cell_type": "code",
      "metadata": {
        "colab": {
          "base_uri": "https://localhost:8080/",
          "height": 264
        },
        "id": "IlkPwyDXi9Q1",
        "outputId": "07bad2ab-59a1-4732-d24a-3192f3c92966"
      },
      "source": [
        "\n",
        "# Visualize some examples from the dataset.\n",
        "# We show a few examples of training images from each class.\n",
        "classes = ['daisy', 'dandelion', 'roses', 'sunflowers', 'tulips']\n",
        "num_classes = len(classes)\n",
        "samples_per_class = 5\n",
        "for y, cls in enumerate(classes):\n",
        "    idxs = np.flatnonzero(Y_train == y)\n",
        "    idxs = np.random.choice(idxs, samples_per_class, replace=False)\n",
        "    for i, idx in enumerate(idxs):\n",
        "        plt_idx = i * num_classes + y + 1\n",
        "        plt.subplot(samples_per_class, num_classes, plt_idx)\n",
        "        plt.imshow(X_train[idx].astype('uint8'))\n",
        "        plt.axis('off')\n",
        "        if i == 0:\n",
        "            plt.title(cls)\n",
        "plt.show()"
      ],
      "execution_count": 17,
      "outputs": [
        {
          "output_type": "display_data",
          "data": {
            "image/png": "[encoded data removed]",
            "text/plain": [
              "<Figure size 432x288 with 25 Axes>"
            ]
          },
          "metadata": {
            "needs_background": "light"
          }
        }
      ]
    },
    {
      "cell_type": "code",
      "metadata": {
        "id": "bLMSgw_VWig0"
      },
      "source": [
        "def resize_img_arr(array, height, width):\n",
        "  array_resized = np.empty([array.shape[0], height, width, array.shape[3]])\n",
        "  for i in range(array.shape[0]):\n",
        "    array_resized[i] = cv2.resize(np.copy(array[i]), (height, width))\n",
        "  return array_resized\n",
        "\n",
        "# Resizing the trainning and the testing arrays to 64*64 images\n",
        "height = 64\n",
        "width = 64\n",
        "\n"
      ],
      "execution_count": 18,
      "outputs": []
    },
    {
      "cell_type": "markdown",
      "metadata": {
        "id": "gWD1yu-DubPQ"
      },
      "source": [
        "Data Preprocessing and breaking down"
      ]
    },
    {
      "cell_type": "code",
      "metadata": {
        "colab": {
          "base_uri": "https://localhost:8080/"
        },
        "id": "x1UFtHbvF_5L",
        "outputId": "310ef2ca-c0b5-4dd7-af76-28d9908b000c"
      },
      "source": [
        "#First Preprocessing of the data is dividing all images by 255, this is the normalization\n",
        "#or regularisation of all images by dividing each image by the RGB value 255\n",
        "X_train = X_train.astype(float) / 255.\n",
        "X_test = X_test.astype(float) / 255.\n",
        "X_TRAIN = resize_img_arr(X_train, height, width)\n",
        "X_TEST = resize_img_arr(X_test, height, width)\n",
        "print(\"Dimensions of the images after resizing\")\n",
        "print(X_TRAIN.shape)\n",
        "print(X_TEST.shape)\n",
        "##Splitting the trainning data to validation and trainning\n",
        "X_TRAIN, X_VAL = X_train[:-500], X_train[-500:]\n",
        "Y_TRAIN, Y_VAL = Y_train[:-500], Y_train[-500:]\n",
        "X_TEST = X_test\n",
        "Y_TEST = Y_test\n",
        "\n",
        "# Second preprocessing of the data is reshaping them to the appropriate dimensions required \n",
        "#to be fed in the NN, multiplying widthxheightxdepth\n",
        "X_TRAIN = X_TRAIN.reshape([X_TRAIN.shape[0], -1])\n",
        "X_VAL = X_VAL.reshape([X_VAL.shape[0], -1])\n",
        "X_TEST = X_TEST.reshape([X_TEST.shape[0], -1])\n",
        "#Third preprocessing of the data is subtracting each image from the mean of all image\n",
        "#This to make all images zero-centered\n",
        "X_TRAIN -= np.mean(X_TRAIN, axis=0)\n",
        "X_TEST -= np.mean(X_TEST, axis=0)\n",
        "#Fourth and final preprocessing of the data is dividing each image by the standard deviation\n",
        "# This regularises the dimensionality of the images\n",
        "X_TRAIN /= np.std(X_TRAIN, axis=0)\n",
        "X_TEST /= np.std(X_TEST, axis=0)\n"
      ],
      "execution_count": 19,
      "outputs": [
        {
          "output_type": "stream",
          "name": "stdout",
          "text": [
            "Dimensions of the images after resizing\n",
            "(3170, 64, 64, 3)\n",
            "(500, 64, 64, 3)\n"
          ]
        }
      ]
    },
    {
      "cell_type": "code",
      "metadata": {
        "colab": {
          "base_uri": "https://localhost:8080/"
        },
        "id": "H7iwV9i_GupR",
        "outputId": "366b15d2-de9c-4f05-dd65-0ec5bb7b5b18"
      },
      "source": [
        "print ('Training data shape: ', X_TRAIN.shape)\n",
        "print ('Training labels shape: ', Y_TRAIN.shape)\n",
        "print ('Validatio data shape: ', X_VAL.shape)\n",
        "print ('Validatio labels shape: ', Y_VAL.shape)\n",
        "print ('Test data shape: ', X_TEST.shape)\n",
        "print ('Test labels shape: ', Y_TEST.shape)"
      ],
      "execution_count": 20,
      "outputs": [
        {
          "output_type": "stream",
          "name": "stdout",
          "text": [
            "Training data shape:  (2670, 150528)\n",
            "Training labels shape:  (2670,)\n",
            "Validatio data shape:  (500, 150528)\n",
            "Validatio labels shape:  (500,)\n",
            "Test data shape:  (500, 150528)\n",
            "Test labels shape:  (500,)\n"
          ]
        }
      ]
    },
    {
      "cell_type": "code",
      "metadata": {
        "id": "eODiabweIxsB"
      },
      "source": [
        "del X_train\n",
        "del X_test\n",
        "del Y_test\n",
        "del Y_train"
      ],
      "execution_count": 21,
      "outputs": []
    },
    {
      "cell_type": "markdown",
      "metadata": {
        "id": "l0nSbaAAnc9U"
      },
      "source": [
        "Fully Connected Neural Network\n",
        "\n",
        "---\n",
        "\n"
      ]
    },
    {
      "cell_type": "code",
      "metadata": {
        "id": "wkYM39zhJTsU"
      },
      "source": [
        "\n",
        "class Layer():\n",
        "    def __init__(self, inp, out, lr=0.04, ld = 0):\n",
        "        self.lamdaa = ld\n",
        "        self.ws = []\n",
        "        self.lr = lr\n",
        "        self.ws = np.random.randn(inp, out)/np.sqrt(inp)\n",
        "        self.bs = np.zeros(out)\n",
        "        \n",
        "\n",
        "    def forward(self,inp):\n",
        "        return np.dot(inp,self.ws) + self.bs\n",
        "        \n",
        "    def backward(self,inp,g_out):\n",
        "        din = np.dot(g_out, self.ws.T)\n",
        "        dws = np.dot(inp.T, g_out)\n",
        "        dbs = g_out.mean(axis=0)*inp.shape[0]\n",
        "        assert dws.shape == self.ws.shape and dbs.shape == self.bs.shape\n",
        "        self.ws = self.ws - self.lr * dws  \n",
        "        self.bs = self.bs - self.lr * dbs\n",
        "        return din\n",
        "\n",
        "    \n",
        "class ReLU():\n",
        "    def __init__(self):\n",
        "        pass\n",
        "    \n",
        "    def forward(self, inp):\n",
        "        forward = np.maximum(0,inp)\n",
        "        return forward\n",
        "    \n",
        "    def backward(self, inp, out):\n",
        "        gradient = inp > 0\n",
        "        return out*gradient\n",
        "\n"
      ],
      "execution_count": 22,
      "outputs": []
    },
    {
      "cell_type": "code",
      "metadata": {
        "id": "CFOf2_drJX9N"
      },
      "source": [
        ""
      ],
      "execution_count": 22,
      "outputs": []
    },
    {
      "cell_type": "code",
      "metadata": {
        "id": "Qv0b3nskJXsn"
      },
      "source": [
        "#This function is taken from a website to divide my data into patches\n",
        "def divide_batches(inp, tar, batchsize, shuffle):\n",
        "    assert len(inp) == len(tar)\n",
        "    if shuffle:\n",
        "        indx = np.random.permutation(len(inp))\n",
        "    for start_idx in trange(0, len(inp) - batchsize + 1, batchsize):\n",
        "        if shuffle:\n",
        "            excerpt = indx[start_idx:start_idx + batchsize]\n",
        "        else:\n",
        "            excerpt = slice(start_idx, start_idx + batchsize)\n",
        "        yield inp[excerpt], tar[excerpt]\n",
        "def run_batch(inp, X):\n",
        "    out = []\n",
        "    i = X\n",
        "    for l in inp:\n",
        "        out.append(l.forward(i))\n",
        "        i = out[-1]\n",
        "    \n",
        "    assert len(out) == len(inp)\n",
        "    \n",
        "    return out\n"
      ],
      "execution_count": 23,
      "outputs": []
    },
    {
      "cell_type": "code",
      "metadata": {
        "id": "GsR1U0t8JX4F"
      },
      "source": [
        "def NeuralNetwork(probs,lbls, m, lamdaa = 0):\n",
        "\n",
        "    correct = probs[np.arange(len(probs)),lbls]\n",
        "    p = np.exp(correct) / np.sum(np.exp(probs),axis=-1)\n",
        "    lss = -1 * np.log(p)\n",
        "    return lss \n",
        "\n",
        "def backward_NeuralNetwork(probs,lbls):\n",
        "\n",
        "    temp = np.zeros_like(probs)\n",
        "    temp[np.arange(len(probs)),lbls] = 1\n",
        "    ratios = np.exp(probs) / np.exp(probs).sum(axis=-1,keepdims=True)\n",
        "    return (- temp + ratios) / probs.shape[0]\n",
        "\n",
        "def train(network,X,lbls):\n",
        "\n",
        "    out = run_batch(network,X)\n",
        "    inp = [X]+out \n",
        "    probabilities = out[-1]\n",
        "    loss = NeuralNetwork(probabilities,lbls, X.shape[0])\n",
        "    grad = backward_NeuralNetwork(probabilities,lbls)\n",
        "    for l in range(len(network))[::-1]:\n",
        "        lyr = network[l]\n",
        "        grad = lyr.backward(inp[l],grad)\n",
        "    return np.mean(loss)\n",
        "\n",
        "def predict(network,X, Y):\n",
        "    expected_probabilities = run_batch(network,X)[-1]\n",
        "    losses = NeuralNetwork(expected_probabilities,Y, X.shape[0])\n",
        "    return (expected_probabilities.argmax(axis=-1) , np.mean(losses))\n"
      ],
      "execution_count": 24,
      "outputs": []
    },
    {
      "cell_type": "code",
      "metadata": {
        "id": "Viis4m4JJX1C"
      },
      "source": [
        ""
      ],
      "execution_count": 24,
      "outputs": []
    },
    {
      "cell_type": "markdown",
      "metadata": {
        "id": "HxTk8-s6FMK2"
      },
      "source": [
        "Cross Validation on learning rate value"
      ]
    },
    {
      "cell_type": "code",
      "metadata": {
        "id": "hYfACrifJlAh",
        "colab": {
          "base_uri": "https://localhost:8080/",
          "height": 553
        },
        "outputId": "07ef0e26-6615-4fe9-9788-9a5373bb8c88"
      },
      "source": [
        "lrs = []\n",
        "training_accuracies = []\n",
        "validation_accuracies = []\n",
        "val_losses = []\n",
        "train_losses = []\n",
        "\n",
        "for trial in range(20):\n",
        "\n",
        "  lr = 10**np.random.uniform(-1,-4) \n",
        "  #definning the neural network\n",
        "  NeuralNetworkVar = []\n",
        "  NeuralNetworkVar.append(Layer(X_TRAIN.shape[1],200,lr))\n",
        "  NeuralNetworkVar.append(ReLU())\n",
        "  NeuralNetworkVar.append(Layer(200,200,lr))\n",
        "  NeuralNetworkVar.append(ReLU())\n",
        "  NeuralNetworkVar.append(Layer(200,100,lr))\n",
        "  NeuralNetworkVar.append(ReLU())\n",
        "  NeuralNetworkVar.append(Layer(100,5,lr))\n",
        "\n",
        "  for epoch in range(10):\n",
        "    train(NeuralNetworkVar,X_TRAIN,Y_TRAIN)\n",
        "    train_predictions, train_loss = predict(NeuralNetworkVar,X_TRAIN, Y_TRAIN)\n",
        "    val_predictions, val_loss = predict(NeuralNetworkVar,X_VAL, Y_VAL)\n",
        "    training_accuracies.append(np.mean(train_predictions==Y_TRAIN))\n",
        "    validation_accuracies.append(np.mean(val_predictions==Y_VAL))\n",
        "    train_losses.append(train_loss)\n",
        "    val_losses.append(val_loss)\n",
        "    lrs.append(lr)\n",
        "\n",
        "    print(\"In Testing Trial #%d (epoch #%d) with lr = %f: got tr_acc = %f, val_acc = %f, tr_loss = %f, and val_loss = %f\" % (trial+1, epoch+1, lr, training_accuracies[-1], train_losses[-1],val_losses[-1], validation_accuracies[-1]))\n",
        "\n",
        "\n",
        "\n"
      ],
      "execution_count": 25,
      "outputs": [
        {
          "output_type": "stream",
          "name": "stdout",
          "text": [
            "In Testing Trial #1 (epoch #1) with lr = 0.000118: got tr_acc = 0.211610, val_acc = 1.634848, tr_loss = 1.615782, and val_loss = 0.178000\n",
            "In Testing Trial #1 (epoch #2) with lr = 0.000118: got tr_acc = 0.211610, val_acc = 1.631001, tr_loss = 1.615254, and val_loss = 0.182000\n",
            "In Testing Trial #1 (epoch #3) with lr = 0.000118: got tr_acc = 0.217228, val_acc = 1.627200, tr_loss = 1.614720, and val_loss = 0.182000\n",
            "In Testing Trial #1 (epoch #4) with lr = 0.000118: got tr_acc = 0.222097, val_acc = 1.623466, tr_loss = 1.614181, and val_loss = 0.182000\n",
            "In Testing Trial #1 (epoch #5) with lr = 0.000118: got tr_acc = 0.226217, val_acc = 1.619817, tr_loss = 1.613647, and val_loss = 0.182000\n",
            "In Testing Trial #1 (epoch #6) with lr = 0.000118: got tr_acc = 0.232584, val_acc = 1.616249, tr_loss = 1.613122, and val_loss = 0.184000\n",
            "In Testing Trial #1 (epoch #7) with lr = 0.000118: got tr_acc = 0.237828, val_acc = 1.612757, tr_loss = 1.612607, and val_loss = 0.184000\n",
            "In Testing Trial #1 (epoch #8) with lr = 0.000118: got tr_acc = 0.240075, val_acc = 1.609307, tr_loss = 1.612095, and val_loss = 0.186000\n"
          ]
        },
        {
          "output_type": "error",
          "ename": "KeyboardInterrupt",
          "evalue": "ignored",
          "traceback": [
            "\u001b[0;31m---------------------------------------------------------------------------\u001b[0m",
            "\u001b[0;31mKeyboardInterrupt\u001b[0m                         Traceback (most recent call last)",
            "\u001b[0;32m<ipython-input-25-ddb282e85d79>\u001b[0m in \u001b[0;36m<module>\u001b[0;34m()\u001b[0m\n\u001b[1;32m     20\u001b[0m   \u001b[0;32mfor\u001b[0m \u001b[0mepoch\u001b[0m \u001b[0;32min\u001b[0m \u001b[0mrange\u001b[0m\u001b[0;34m(\u001b[0m\u001b[0;36m10\u001b[0m\u001b[0;34m)\u001b[0m\u001b[0;34m:\u001b[0m\u001b[0;34m\u001b[0m\u001b[0;34m\u001b[0m\u001b[0m\n\u001b[1;32m     21\u001b[0m     \u001b[0mtrain\u001b[0m\u001b[0;34m(\u001b[0m\u001b[0mNeuralNetworkVar\u001b[0m\u001b[0;34m,\u001b[0m\u001b[0mX_TRAIN\u001b[0m\u001b[0;34m,\u001b[0m\u001b[0mY_TRAIN\u001b[0m\u001b[0;34m)\u001b[0m\u001b[0;34m\u001b[0m\u001b[0;34m\u001b[0m\u001b[0m\n\u001b[0;32m---> 22\u001b[0;31m     \u001b[0mtrain_predictions\u001b[0m\u001b[0;34m,\u001b[0m \u001b[0mtrain_loss\u001b[0m \u001b[0;34m=\u001b[0m \u001b[0mpredict\u001b[0m\u001b[0;34m(\u001b[0m\u001b[0mNeuralNetworkVar\u001b[0m\u001b[0;34m,\u001b[0m\u001b[0mX_TRAIN\u001b[0m\u001b[0;34m,\u001b[0m \u001b[0mY_TRAIN\u001b[0m\u001b[0;34m)\u001b[0m\u001b[0;34m\u001b[0m\u001b[0;34m\u001b[0m\u001b[0m\n\u001b[0m\u001b[1;32m     23\u001b[0m     \u001b[0mval_predictions\u001b[0m\u001b[0;34m,\u001b[0m \u001b[0mval_loss\u001b[0m \u001b[0;34m=\u001b[0m \u001b[0mpredict\u001b[0m\u001b[0;34m(\u001b[0m\u001b[0mNeuralNetworkVar\u001b[0m\u001b[0;34m,\u001b[0m\u001b[0mX_VAL\u001b[0m\u001b[0;34m,\u001b[0m \u001b[0mY_VAL\u001b[0m\u001b[0;34m)\u001b[0m\u001b[0;34m\u001b[0m\u001b[0;34m\u001b[0m\u001b[0m\n\u001b[1;32m     24\u001b[0m     \u001b[0mtraining_accuracies\u001b[0m\u001b[0;34m.\u001b[0m\u001b[0mappend\u001b[0m\u001b[0;34m(\u001b[0m\u001b[0mnp\u001b[0m\u001b[0;34m.\u001b[0m\u001b[0mmean\u001b[0m\u001b[0;34m(\u001b[0m\u001b[0mtrain_predictions\u001b[0m\u001b[0;34m==\u001b[0m\u001b[0mY_TRAIN\u001b[0m\u001b[0;34m)\u001b[0m\u001b[0;34m)\u001b[0m\u001b[0;34m\u001b[0m\u001b[0;34m\u001b[0m\u001b[0m\n",
            "\u001b[0;32m<ipython-input-24-90168b59a316>\u001b[0m in \u001b[0;36mpredict\u001b[0;34m(network, X, Y)\u001b[0m\n\u001b[1;32m     26\u001b[0m \u001b[0;34m\u001b[0m\u001b[0m\n\u001b[1;32m     27\u001b[0m \u001b[0;32mdef\u001b[0m \u001b[0mpredict\u001b[0m\u001b[0;34m(\u001b[0m\u001b[0mnetwork\u001b[0m\u001b[0;34m,\u001b[0m\u001b[0mX\u001b[0m\u001b[0;34m,\u001b[0m \u001b[0mY\u001b[0m\u001b[0;34m)\u001b[0m\u001b[0;34m:\u001b[0m\u001b[0;34m\u001b[0m\u001b[0;34m\u001b[0m\u001b[0m\n\u001b[0;32m---> 28\u001b[0;31m     \u001b[0mexpected_probabilities\u001b[0m \u001b[0;34m=\u001b[0m \u001b[0mrun_batch\u001b[0m\u001b[0;34m(\u001b[0m\u001b[0mnetwork\u001b[0m\u001b[0;34m,\u001b[0m\u001b[0mX\u001b[0m\u001b[0;34m)\u001b[0m\u001b[0;34m[\u001b[0m\u001b[0;34m-\u001b[0m\u001b[0;36m1\u001b[0m\u001b[0;34m]\u001b[0m\u001b[0;34m\u001b[0m\u001b[0;34m\u001b[0m\u001b[0m\n\u001b[0m\u001b[1;32m     29\u001b[0m     \u001b[0mlosses\u001b[0m \u001b[0;34m=\u001b[0m \u001b[0mNeuralNetwork\u001b[0m\u001b[0;34m(\u001b[0m\u001b[0mexpected_probabilities\u001b[0m\u001b[0;34m,\u001b[0m\u001b[0mY\u001b[0m\u001b[0;34m,\u001b[0m \u001b[0mX\u001b[0m\u001b[0;34m.\u001b[0m\u001b[0mshape\u001b[0m\u001b[0;34m[\u001b[0m\u001b[0;36m0\u001b[0m\u001b[0;34m]\u001b[0m\u001b[0;34m)\u001b[0m\u001b[0;34m\u001b[0m\u001b[0;34m\u001b[0m\u001b[0m\n\u001b[1;32m     30\u001b[0m     \u001b[0;32mreturn\u001b[0m \u001b[0;34m(\u001b[0m\u001b[0mexpected_probabilities\u001b[0m\u001b[0;34m.\u001b[0m\u001b[0margmax\u001b[0m\u001b[0;34m(\u001b[0m\u001b[0maxis\u001b[0m\u001b[0;34m=\u001b[0m\u001b[0;34m-\u001b[0m\u001b[0;36m1\u001b[0m\u001b[0;34m)\u001b[0m \u001b[0;34m,\u001b[0m \u001b[0mnp\u001b[0m\u001b[0;34m.\u001b[0m\u001b[0mmean\u001b[0m\u001b[0;34m(\u001b[0m\u001b[0mlosses\u001b[0m\u001b[0;34m)\u001b[0m\u001b[0;34m)\u001b[0m\u001b[0;34m\u001b[0m\u001b[0;34m\u001b[0m\u001b[0m\n",
            "\u001b[0;32m<ipython-input-23-50b46368fdd3>\u001b[0m in \u001b[0;36mrun_batch\u001b[0;34m(inp, X)\u001b[0m\n\u001b[1;32m     14\u001b[0m     \u001b[0mi\u001b[0m \u001b[0;34m=\u001b[0m \u001b[0mX\u001b[0m\u001b[0;34m\u001b[0m\u001b[0;34m\u001b[0m\u001b[0m\n\u001b[1;32m     15\u001b[0m     \u001b[0;32mfor\u001b[0m \u001b[0ml\u001b[0m \u001b[0;32min\u001b[0m \u001b[0minp\u001b[0m\u001b[0;34m:\u001b[0m\u001b[0;34m\u001b[0m\u001b[0;34m\u001b[0m\u001b[0m\n\u001b[0;32m---> 16\u001b[0;31m         \u001b[0mout\u001b[0m\u001b[0;34m.\u001b[0m\u001b[0mappend\u001b[0m\u001b[0;34m(\u001b[0m\u001b[0ml\u001b[0m\u001b[0;34m.\u001b[0m\u001b[0mforward\u001b[0m\u001b[0;34m(\u001b[0m\u001b[0mi\u001b[0m\u001b[0;34m)\u001b[0m\u001b[0;34m)\u001b[0m\u001b[0;34m\u001b[0m\u001b[0;34m\u001b[0m\u001b[0m\n\u001b[0m\u001b[1;32m     17\u001b[0m         \u001b[0mi\u001b[0m \u001b[0;34m=\u001b[0m \u001b[0mout\u001b[0m\u001b[0;34m[\u001b[0m\u001b[0;34m-\u001b[0m\u001b[0;36m1\u001b[0m\u001b[0;34m]\u001b[0m\u001b[0;34m\u001b[0m\u001b[0;34m\u001b[0m\u001b[0m\n\u001b[1;32m     18\u001b[0m \u001b[0;34m\u001b[0m\u001b[0m\n",
            "\u001b[0;32m<ipython-input-22-4b6327acfc2f>\u001b[0m in \u001b[0;36mforward\u001b[0;34m(self, inp)\u001b[0m\n\u001b[1;32m     10\u001b[0m \u001b[0;34m\u001b[0m\u001b[0m\n\u001b[1;32m     11\u001b[0m     \u001b[0;32mdef\u001b[0m \u001b[0mforward\u001b[0m\u001b[0;34m(\u001b[0m\u001b[0mself\u001b[0m\u001b[0;34m,\u001b[0m\u001b[0minp\u001b[0m\u001b[0;34m)\u001b[0m\u001b[0;34m:\u001b[0m\u001b[0;34m\u001b[0m\u001b[0;34m\u001b[0m\u001b[0m\n\u001b[0;32m---> 12\u001b[0;31m         \u001b[0;32mreturn\u001b[0m \u001b[0mnp\u001b[0m\u001b[0;34m.\u001b[0m\u001b[0mdot\u001b[0m\u001b[0;34m(\u001b[0m\u001b[0minp\u001b[0m\u001b[0;34m,\u001b[0m\u001b[0mself\u001b[0m\u001b[0;34m.\u001b[0m\u001b[0mws\u001b[0m\u001b[0;34m)\u001b[0m \u001b[0;34m+\u001b[0m \u001b[0mself\u001b[0m\u001b[0;34m.\u001b[0m\u001b[0mbs\u001b[0m\u001b[0;34m\u001b[0m\u001b[0;34m\u001b[0m\u001b[0m\n\u001b[0m\u001b[1;32m     13\u001b[0m \u001b[0;34m\u001b[0m\u001b[0m\n\u001b[1;32m     14\u001b[0m     \u001b[0;32mdef\u001b[0m \u001b[0mbackward\u001b[0m\u001b[0;34m(\u001b[0m\u001b[0mself\u001b[0m\u001b[0;34m,\u001b[0m\u001b[0minp\u001b[0m\u001b[0;34m,\u001b[0m\u001b[0mg_out\u001b[0m\u001b[0;34m)\u001b[0m\u001b[0;34m:\u001b[0m\u001b[0;34m\u001b[0m\u001b[0;34m\u001b[0m\u001b[0m\n",
            "\u001b[0;32m<__array_function__ internals>\u001b[0m in \u001b[0;36mdot\u001b[0;34m(*args, **kwargs)\u001b[0m\n",
            "\u001b[0;31mKeyboardInterrupt\u001b[0m: "
          ]
        }
      ]
    },
    {
      "cell_type": "code",
      "metadata": {
        "id": "x8z861lGKIlX",
        "colab": {
          "base_uri": "https://localhost:8080/"
        },
        "outputId": "a637d957-e38c-4496-851c-f359e0b8b890"
      },
      "source": [
        "print() \n",
        "print(\"Got highest train accuracy = %f at lr = %f\" % (max(training_accuracies), lrs[training_accuracies.index(max(training_accuracies))]))\n",
        "print(\"Got highest val accuracy = %f at lr = %f\" % (max(validation_accuracies), lrs[validation_accuracies.index(max(validation_accuracies))]))\n",
        "print(\"Got lowest train loss = %f at lr = %f\" % (min(train_losses), lrs[train_losses.index(min(train_losses))]))\n",
        "print(\"Got lowest val loss = %f at lr = %f\" % (min(val_losses), lrs[val_losses.index(min(val_losses))]))"
      ],
      "execution_count": 26,
      "outputs": [
        {
          "output_type": "stream",
          "name": "stdout",
          "text": [
            "\n",
            "Got highest train accuracy = 0.240075 at lr = 0.000118\n",
            "Got highest val accuracy = 0.186000 at lr = 0.000118\n",
            "Got lowest train loss = 1.609307 at lr = 0.000118\n",
            "Got lowest val loss = 1.612095 at lr = 0.000118\n"
          ]
        }
      ]
    },
    {
      "cell_type": "code",
      "metadata": {
        "id": "RMLY0bjzoRHI"
      },
      "source": [
        "del training_accuracies\n",
        "del validation_accuracies \n",
        "del train_losses \n",
        "del val_losses\n",
        "del lrs"
      ],
      "execution_count": 27,
      "outputs": []
    },
    {
      "cell_type": "code",
      "metadata": {
        "id": "oGxH7Yl0rA7y"
      },
      "source": [
        ""
      ],
      "execution_count": 28,
      "outputs": []
    },
    {
      "cell_type": "code",
      "metadata": {
        "colab": {
          "base_uri": "https://localhost:8080/"
        },
        "id": "hLiL4gGvqE3a",
        "outputId": "578a3690-3ac1-4780-e003-9504a74a4d12"
      },
      "source": [
        "# lr=0.003675\n",
        "lr = 0.0027\n",
        "\n",
        "training_accuracies = []\n",
        "validation_accuracies = []\n",
        "losses = []\n",
        "train_count = []\n",
        "counter = 0\n",
        "train_losses = []\n",
        "val_losses = []\n",
        "#Creating the neural network\n",
        "NeuralNetworkVar = []\n",
        "NeuralNetworkVar.append(Layer(X_TRAIN.shape[1],200,lr))\n",
        "NeuralNetworkVar.append(ReLU())\n",
        "NeuralNetworkVar.append(Layer(200,200,lr))\n",
        "NeuralNetworkVar.append(ReLU())\n",
        "NeuralNetworkVar.append(Layer(200,100,lr))\n",
        "NeuralNetworkVar.append(ReLU())\n",
        "NeuralNetworkVar.append(Layer(100,5,lr))\n",
        "\n",
        "for epoch in range(50):\n",
        "    for x,y in divide_batches(X_TRAIN,Y_TRAIN,batchsize=256,shuffle=True):\n",
        "        train(NeuralNetworkVar,x,y)\n",
        "\n",
        "    train_predictions, train_loss = predict(NeuralNetworkVar,X_TRAIN, Y_TRAIN)\n",
        "    val_predictions, val_loss = predict(NeuralNetworkVar,X_VAL, Y_VAL)\n",
        "    training_accuracies.append(np.mean(train_predictions==Y_TRAIN))\n",
        "    validation_accuracies.append(np.mean(val_predictions==Y_VAL))\n",
        "    train_losses.append(train_loss)\n",
        "    val_losses.append(val_loss)\n",
        "    print(\"(Epoch #%d): the tr_acc = %f and val_acc = %f and tr_loss = %f and val_loss = %f\" % (epoch+1, training_accuracies[-1], validation_accuracies[-1], train_losses[-1],val_losses[-1]))\n",
        "\n",
        "\n",
        "\n"
      ],
      "execution_count": 43,
      "outputs": [
        {
          "output_type": "stream",
          "name": "stderr",
          "text": [
            "100%|██████████| 10/10 [00:15<00:00,  1.55s/it]\n"
          ]
        },
        {
          "output_type": "stream",
          "name": "stdout",
          "text": [
            "(Epoch #1): the tr_acc = 0.512734 and val_acc = 0.348000\n"
          ]
        },
        {
          "output_type": "stream",
          "name": "stderr",
          "text": [
            "100%|██████████| 10/10 [00:14<00:00,  1.47s/it]\n"
          ]
        },
        {
          "output_type": "stream",
          "name": "stdout",
          "text": [
            "(Epoch #2): the tr_acc = 0.591011 and val_acc = 0.344000\n"
          ]
        },
        {
          "output_type": "stream",
          "name": "stderr",
          "text": [
            "100%|██████████| 10/10 [00:14<00:00,  1.47s/it]\n"
          ]
        },
        {
          "output_type": "stream",
          "name": "stdout",
          "text": [
            "(Epoch #3): the tr_acc = 0.641199 and val_acc = 0.326000\n"
          ]
        },
        {
          "output_type": "stream",
          "name": "stderr",
          "text": [
            "100%|██████████| 10/10 [00:14<00:00,  1.47s/it]\n"
          ]
        },
        {
          "output_type": "stream",
          "name": "stdout",
          "text": [
            "(Epoch #4): the tr_acc = 0.687266 and val_acc = 0.336000\n"
          ]
        },
        {
          "output_type": "stream",
          "name": "stderr",
          "text": [
            "100%|██████████| 10/10 [00:14<00:00,  1.47s/it]\n"
          ]
        },
        {
          "output_type": "stream",
          "name": "stdout",
          "text": [
            "(Epoch #5): the tr_acc = 0.718352 and val_acc = 0.332000\n"
          ]
        },
        {
          "output_type": "stream",
          "name": "stderr",
          "text": [
            "100%|██████████| 10/10 [00:14<00:00,  1.48s/it]\n"
          ]
        },
        {
          "output_type": "stream",
          "name": "stdout",
          "text": [
            "(Epoch #6): the tr_acc = 0.734082 and val_acc = 0.328000\n"
          ]
        },
        {
          "output_type": "stream",
          "name": "stderr",
          "text": [
            "100%|██████████| 10/10 [00:14<00:00,  1.47s/it]\n"
          ]
        },
        {
          "output_type": "stream",
          "name": "stdout",
          "text": [
            "(Epoch #7): the tr_acc = 0.750187 and val_acc = 0.406000\n"
          ]
        },
        {
          "output_type": "stream",
          "name": "stderr",
          "text": [
            "100%|██████████| 10/10 [00:14<00:00,  1.47s/it]\n"
          ]
        },
        {
          "output_type": "stream",
          "name": "stdout",
          "text": [
            "(Epoch #8): the tr_acc = 0.790262 and val_acc = 0.368000\n"
          ]
        },
        {
          "output_type": "stream",
          "name": "stderr",
          "text": [
            "100%|██████████| 10/10 [00:14<00:00,  1.47s/it]\n"
          ]
        },
        {
          "output_type": "stream",
          "name": "stdout",
          "text": [
            "(Epoch #9): the tr_acc = 0.794757 and val_acc = 0.390000\n"
          ]
        },
        {
          "output_type": "stream",
          "name": "stderr",
          "text": [
            "100%|██████████| 10/10 [00:14<00:00,  1.48s/it]\n"
          ]
        },
        {
          "output_type": "stream",
          "name": "stdout",
          "text": [
            "(Epoch #10): the tr_acc = 0.816854 and val_acc = 0.356000\n"
          ]
        },
        {
          "output_type": "stream",
          "name": "stderr",
          "text": [
            "100%|██████████| 10/10 [00:14<00:00,  1.48s/it]\n"
          ]
        },
        {
          "output_type": "stream",
          "name": "stdout",
          "text": [
            "(Epoch #11): the tr_acc = 0.842322 and val_acc = 0.342000\n"
          ]
        },
        {
          "output_type": "stream",
          "name": "stderr",
          "text": [
            "100%|██████████| 10/10 [00:14<00:00,  1.47s/it]\n"
          ]
        },
        {
          "output_type": "stream",
          "name": "stdout",
          "text": [
            "(Epoch #12): the tr_acc = 0.846442 and val_acc = 0.406000\n"
          ]
        },
        {
          "output_type": "stream",
          "name": "stderr",
          "text": [
            "100%|██████████| 10/10 [00:14<00:00,  1.47s/it]\n"
          ]
        },
        {
          "output_type": "stream",
          "name": "stdout",
          "text": [
            "(Epoch #13): the tr_acc = 0.864794 and val_acc = 0.376000\n"
          ]
        },
        {
          "output_type": "stream",
          "name": "stderr",
          "text": [
            "100%|██████████| 10/10 [00:14<00:00,  1.47s/it]\n"
          ]
        },
        {
          "output_type": "stream",
          "name": "stdout",
          "text": [
            "(Epoch #14): the tr_acc = 0.875281 and val_acc = 0.354000\n"
          ]
        },
        {
          "output_type": "stream",
          "name": "stderr",
          "text": [
            "100%|██████████| 10/10 [00:14<00:00,  1.47s/it]\n"
          ]
        },
        {
          "output_type": "stream",
          "name": "stdout",
          "text": [
            "(Epoch #15): the tr_acc = 0.881273 and val_acc = 0.412000\n"
          ]
        },
        {
          "output_type": "stream",
          "name": "stderr",
          "text": [
            "100%|██████████| 10/10 [00:14<00:00,  1.47s/it]\n"
          ]
        },
        {
          "output_type": "stream",
          "name": "stdout",
          "text": [
            "(Epoch #16): the tr_acc = 0.889888 and val_acc = 0.364000\n"
          ]
        },
        {
          "output_type": "stream",
          "name": "stderr",
          "text": [
            "100%|██████████| 10/10 [00:14<00:00,  1.47s/it]\n"
          ]
        },
        {
          "output_type": "stream",
          "name": "stdout",
          "text": [
            "(Epoch #17): the tr_acc = 0.901124 and val_acc = 0.370000\n"
          ]
        },
        {
          "output_type": "stream",
          "name": "stderr",
          "text": [
            "100%|██████████| 10/10 [00:14<00:00,  1.47s/it]\n"
          ]
        },
        {
          "output_type": "stream",
          "name": "stdout",
          "text": [
            "(Epoch #18): the tr_acc = 0.913483 and val_acc = 0.350000\n"
          ]
        },
        {
          "output_type": "stream",
          "name": "stderr",
          "text": [
            "100%|██████████| 10/10 [00:16<00:00,  1.66s/it]\n"
          ]
        },
        {
          "output_type": "stream",
          "name": "stdout",
          "text": [
            "(Epoch #19): the tr_acc = 0.909363 and val_acc = 0.346000\n"
          ]
        },
        {
          "output_type": "stream",
          "name": "stderr",
          "text": [
            "100%|██████████| 10/10 [00:14<00:00,  1.49s/it]\n"
          ]
        },
        {
          "output_type": "stream",
          "name": "stdout",
          "text": [
            "(Epoch #20): the tr_acc = 0.914232 and val_acc = 0.266000\n"
          ]
        },
        {
          "output_type": "stream",
          "name": "stderr",
          "text": [
            "100%|██████████| 10/10 [00:14<00:00,  1.49s/it]\n"
          ]
        },
        {
          "output_type": "stream",
          "name": "stdout",
          "text": [
            "(Epoch #21): the tr_acc = 0.923970 and val_acc = 0.416000\n"
          ]
        },
        {
          "output_type": "stream",
          "name": "stderr",
          "text": [
            "100%|██████████| 10/10 [00:14<00:00,  1.48s/it]\n"
          ]
        },
        {
          "output_type": "stream",
          "name": "stdout",
          "text": [
            "(Epoch #22): the tr_acc = 0.931461 and val_acc = 0.394000\n"
          ]
        },
        {
          "output_type": "stream",
          "name": "stderr",
          "text": [
            "100%|██████████| 10/10 [00:14<00:00,  1.48s/it]\n"
          ]
        },
        {
          "output_type": "stream",
          "name": "stdout",
          "text": [
            "(Epoch #23): the tr_acc = 0.936704 and val_acc = 0.394000\n"
          ]
        },
        {
          "output_type": "stream",
          "name": "stderr",
          "text": [
            "100%|██████████| 10/10 [00:14<00:00,  1.47s/it]\n"
          ]
        },
        {
          "output_type": "stream",
          "name": "stdout",
          "text": [
            "(Epoch #24): the tr_acc = 0.948315 and val_acc = 0.350000\n"
          ]
        },
        {
          "output_type": "stream",
          "name": "stderr",
          "text": [
            "100%|██████████| 10/10 [00:14<00:00,  1.47s/it]\n"
          ]
        },
        {
          "output_type": "stream",
          "name": "stdout",
          "text": [
            "(Epoch #25): the tr_acc = 0.950562 and val_acc = 0.328000\n"
          ]
        },
        {
          "output_type": "stream",
          "name": "stderr",
          "text": [
            "100%|██████████| 10/10 [00:14<00:00,  1.48s/it]\n"
          ]
        },
        {
          "output_type": "stream",
          "name": "stdout",
          "text": [
            "(Epoch #26): the tr_acc = 0.955056 and val_acc = 0.354000\n"
          ]
        },
        {
          "output_type": "stream",
          "name": "stderr",
          "text": [
            "100%|██████████| 10/10 [00:14<00:00,  1.46s/it]\n"
          ]
        },
        {
          "output_type": "stream",
          "name": "stdout",
          "text": [
            "(Epoch #27): the tr_acc = 0.951311 and val_acc = 0.306000\n"
          ]
        },
        {
          "output_type": "stream",
          "name": "stderr",
          "text": [
            "100%|██████████| 10/10 [00:14<00:00,  1.47s/it]\n"
          ]
        },
        {
          "output_type": "stream",
          "name": "stdout",
          "text": [
            "(Epoch #28): the tr_acc = 0.956554 and val_acc = 0.324000\n"
          ]
        },
        {
          "output_type": "stream",
          "name": "stderr",
          "text": [
            "100%|██████████| 10/10 [00:14<00:00,  1.47s/it]\n"
          ]
        },
        {
          "output_type": "stream",
          "name": "stdout",
          "text": [
            "(Epoch #29): the tr_acc = 0.963670 and val_acc = 0.362000\n"
          ]
        },
        {
          "output_type": "stream",
          "name": "stderr",
          "text": [
            "100%|██████████| 10/10 [00:14<00:00,  1.47s/it]\n"
          ]
        },
        {
          "output_type": "stream",
          "name": "stdout",
          "text": [
            "(Epoch #30): the tr_acc = 0.967041 and val_acc = 0.350000\n"
          ]
        },
        {
          "output_type": "stream",
          "name": "stderr",
          "text": [
            "100%|██████████| 10/10 [00:14<00:00,  1.47s/it]\n"
          ]
        },
        {
          "output_type": "stream",
          "name": "stdout",
          "text": [
            "(Epoch #31): the tr_acc = 0.964045 and val_acc = 0.302000\n"
          ]
        },
        {
          "output_type": "stream",
          "name": "stderr",
          "text": [
            "100%|██████████| 10/10 [00:14<00:00,  1.47s/it]\n"
          ]
        },
        {
          "output_type": "stream",
          "name": "stdout",
          "text": [
            "(Epoch #32): the tr_acc = 0.966667 and val_acc = 0.422000\n"
          ]
        },
        {
          "output_type": "stream",
          "name": "stderr",
          "text": [
            "100%|██████████| 10/10 [00:14<00:00,  1.47s/it]\n"
          ]
        },
        {
          "output_type": "stream",
          "name": "stdout",
          "text": [
            "(Epoch #33): the tr_acc = 0.971536 and val_acc = 0.356000\n"
          ]
        },
        {
          "output_type": "stream",
          "name": "stderr",
          "text": [
            "100%|██████████| 10/10 [00:14<00:00,  1.47s/it]\n"
          ]
        },
        {
          "output_type": "stream",
          "name": "stdout",
          "text": [
            "(Epoch #34): the tr_acc = 0.971910 and val_acc = 0.348000\n"
          ]
        },
        {
          "output_type": "stream",
          "name": "stderr",
          "text": [
            "100%|██████████| 10/10 [00:14<00:00,  1.48s/it]\n"
          ]
        },
        {
          "output_type": "stream",
          "name": "stdout",
          "text": [
            "(Epoch #35): the tr_acc = 0.973783 and val_acc = 0.384000\n"
          ]
        },
        {
          "output_type": "stream",
          "name": "stderr",
          "text": [
            "100%|██████████| 10/10 [00:14<00:00,  1.48s/it]\n"
          ]
        },
        {
          "output_type": "stream",
          "name": "stdout",
          "text": [
            "(Epoch #36): the tr_acc = 0.979775 and val_acc = 0.366000\n"
          ]
        },
        {
          "output_type": "stream",
          "name": "stderr",
          "text": [
            "100%|██████████| 10/10 [00:14<00:00,  1.47s/it]\n"
          ]
        },
        {
          "output_type": "stream",
          "name": "stdout",
          "text": [
            "(Epoch #37): the tr_acc = 0.981273 and val_acc = 0.376000\n"
          ]
        },
        {
          "output_type": "stream",
          "name": "stderr",
          "text": [
            "100%|██████████| 10/10 [00:14<00:00,  1.47s/it]\n"
          ]
        },
        {
          "output_type": "stream",
          "name": "stdout",
          "text": [
            "(Epoch #38): the tr_acc = 0.981648 and val_acc = 0.298000\n"
          ]
        },
        {
          "output_type": "stream",
          "name": "stderr",
          "text": [
            "100%|██████████| 10/10 [00:14<00:00,  1.48s/it]\n"
          ]
        },
        {
          "output_type": "stream",
          "name": "stdout",
          "text": [
            "(Epoch #39): the tr_acc = 0.978652 and val_acc = 0.400000\n"
          ]
        },
        {
          "output_type": "stream",
          "name": "stderr",
          "text": [
            "100%|██████████| 10/10 [00:14<00:00,  1.48s/it]\n"
          ]
        },
        {
          "output_type": "stream",
          "name": "stdout",
          "text": [
            "(Epoch #40): the tr_acc = 0.983895 and val_acc = 0.374000\n"
          ]
        },
        {
          "output_type": "stream",
          "name": "stderr",
          "text": [
            "100%|██████████| 10/10 [00:14<00:00,  1.48s/it]\n"
          ]
        },
        {
          "output_type": "stream",
          "name": "stdout",
          "text": [
            "(Epoch #41): the tr_acc = 0.985768 and val_acc = 0.342000\n"
          ]
        },
        {
          "output_type": "stream",
          "name": "stderr",
          "text": [
            "100%|██████████| 10/10 [00:14<00:00,  1.48s/it]\n"
          ]
        },
        {
          "output_type": "stream",
          "name": "stdout",
          "text": [
            "(Epoch #42): the tr_acc = 0.988015 and val_acc = 0.324000\n"
          ]
        },
        {
          "output_type": "stream",
          "name": "stderr",
          "text": [
            "100%|██████████| 10/10 [00:14<00:00,  1.47s/it]\n"
          ]
        },
        {
          "output_type": "stream",
          "name": "stdout",
          "text": [
            "(Epoch #43): the tr_acc = 0.986517 and val_acc = 0.380000\n"
          ]
        },
        {
          "output_type": "stream",
          "name": "stderr",
          "text": [
            "100%|██████████| 10/10 [00:14<00:00,  1.48s/it]\n"
          ]
        },
        {
          "output_type": "stream",
          "name": "stdout",
          "text": [
            "(Epoch #44): the tr_acc = 0.988764 and val_acc = 0.368000\n"
          ]
        },
        {
          "output_type": "stream",
          "name": "stderr",
          "text": [
            "100%|██████████| 10/10 [00:14<00:00,  1.48s/it]\n"
          ]
        },
        {
          "output_type": "stream",
          "name": "stdout",
          "text": [
            "(Epoch #45): the tr_acc = 0.986891 and val_acc = 0.400000\n"
          ]
        },
        {
          "output_type": "stream",
          "name": "stderr",
          "text": [
            "100%|██████████| 10/10 [00:14<00:00,  1.48s/it]\n"
          ]
        },
        {
          "output_type": "stream",
          "name": "stdout",
          "text": [
            "(Epoch #46): the tr_acc = 0.990637 and val_acc = 0.334000\n"
          ]
        },
        {
          "output_type": "stream",
          "name": "stderr",
          "text": [
            "100%|██████████| 10/10 [00:14<00:00,  1.48s/it]\n"
          ]
        },
        {
          "output_type": "stream",
          "name": "stdout",
          "text": [
            "(Epoch #47): the tr_acc = 0.992135 and val_acc = 0.390000\n"
          ]
        },
        {
          "output_type": "stream",
          "name": "stderr",
          "text": [
            "100%|██████████| 10/10 [00:14<00:00,  1.48s/it]\n"
          ]
        },
        {
          "output_type": "stream",
          "name": "stdout",
          "text": [
            "(Epoch #48): the tr_acc = 0.991760 and val_acc = 0.328000\n"
          ]
        },
        {
          "output_type": "stream",
          "name": "stderr",
          "text": [
            "100%|██████████| 10/10 [00:14<00:00,  1.47s/it]\n"
          ]
        },
        {
          "output_type": "stream",
          "name": "stdout",
          "text": [
            "(Epoch #49): the tr_acc = 0.993633 and val_acc = 0.366000\n"
          ]
        },
        {
          "output_type": "stream",
          "name": "stderr",
          "text": [
            "100%|██████████| 10/10 [00:14<00:00,  1.47s/it]\n"
          ]
        },
        {
          "output_type": "stream",
          "name": "stdout",
          "text": [
            "(Epoch #50): the tr_acc = 0.994757 and val_acc = 0.356000\n"
          ]
        }
      ]
    },
    {
      "cell_type": "code",
      "metadata": {
        "colab": {
          "base_uri": "https://localhost:8080/",
          "height": 532
        },
        "id": "s9uc9NttAEK_",
        "outputId": "1e323fce-3996-47dd-cd07-e3538b5c38b3"
      },
      "source": [
        "plt.plot(train_losses, label=\"Trainning Loss\") \n",
        "plt.plot(val_losses, label=\"Validation Loss\") \n",
        "plt.legend() \n",
        "lowest_train_loss, lowest_val_loss = min(train_losses) , min(val_losses)\n",
        "lowest_x = val_losses.index(lowest_val_loss)\n",
        "plt.grid()\n",
        "plt.show()\n",
        "plt.plot(training_accuracies,label='Trainning Accuracy')\n",
        "plt.plot(validation_accuracies,label='Validation Accuracy')\n",
        "plt.legend(loc='best')\n",
        "plt.grid()\n",
        "plt.show() \n"
      ],
      "execution_count": 46,
      "outputs": [
        {
          "output_type": "stream",
          "name": "stdout",
          "text": [
            "\n"
          ]
        },
        {
          "output_type": "display_data",
          "data": {
            "image/png": "[encoded data removed]",
            "text/plain": [
              "<Figure size 432x288 with 1 Axes>"
            ]
          },
          "metadata": {
            "needs_background": "light"
          }
        },
        {
          "output_type": "display_data",
          "data": {
            "image/png": "[encoded data removed]",
            "text/plain": [
              "<Figure size 432x288 with 1 Axes>"
            ]
          },
          "metadata": {
            "needs_background": "light"
          }
        }
      ]
    },
    {
      "cell_type": "markdown",
      "metadata": {
        "id": "pMyIy1CiHGAp"
      },
      "source": [
        "### Computing CCRN for each Class "
      ]
    },
    {
      "cell_type": "code",
      "metadata": {
        "colab": {
          "base_uri": "https://localhost:8080/"
        },
        "id": "50DLZ6TXEWSP",
        "outputId": "6397cbc1-bb28-461f-ec47-a31c388d1f67"
      },
      "source": [
        "x_classes = np.split(X_TEST, 5)\n",
        "y_classes= np.split(np.array(Y_TEST), 5)\n",
        "for i in range(5):\n",
        "    prediction, loss = predict(NeuralNetworkVar,x_classes[i], y_classes[i])\n",
        "    print('Class ' , classes[i],'has CCRN = ' , np.mean(prediction==y_classes[i]))\n",
        "\n",
        "\n"
      ],
      "execution_count": 30,
      "outputs": [
        {
          "output_type": "stream",
          "name": "stdout",
          "text": [
            "Class  daisy has CCRN =  0.52\n",
            "Class  dandelion has CCRN =  0.47\n",
            "Class  roses has CCRN =  0.53\n",
            "Class  sunflowers has CCRN =  0.44\n",
            "Class  tulips has CCRN =  0.45\n"
          ]
        }
      ]
    },
    {
      "cell_type": "code",
      "metadata": {
        "colab": {
          "base_uri": "https://localhost:8080/"
        },
        "id": "CJTkGrhxEqrC",
        "outputId": "8763d60e-2d20-46be-e117-cf00a487bc5e"
      },
      "source": [
        "predicted, loss = predict(NeuralNetworkVar,X_TEST, Y_TEST)\n",
        "print(\"ACCR = %f\" % np.mean(predicted==np.array(Y_TEST)))"
      ],
      "execution_count": 50,
      "outputs": [
        {
          "output_type": "stream",
          "name": "stdout",
          "text": [
            "ACCR = 0.504000\n"
          ]
        }
      ]
    },
    {
      "cell_type": "markdown",
      "metadata": {
        "id": "-hqwbrqFhU2_"
      },
      "source": [
        "Plot of cross-validation accuracy (Y axis) versus number of neighborhood 'k'\n",
        "(X axis) showing the best chosen 'k'"
      ]
    },
    {
      "cell_type": "markdown",
      "metadata": {
        "id": "_c6c0cBqHN8n"
      },
      "source": [
        ""
      ]
    },
    {
      "cell_type": "code",
      "metadata": {
        "id": "GJxBLs8_95ku"
      },
      "source": [
        "del training_accuracies\n",
        "del validation_accuracies \n",
        "del train_losses \n",
        "del val_losses\n",
        "del lrs"
      ],
      "execution_count": null,
      "outputs": []
    },
    {
      "cell_type": "code",
      "metadata": {
        "id": "Fm1Ag6k9_Gq9"
      },
      "source": [
        ""
      ],
      "execution_count": null,
      "outputs": []
    }
  ]
}